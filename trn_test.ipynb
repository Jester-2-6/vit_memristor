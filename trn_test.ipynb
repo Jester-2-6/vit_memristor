{
 "cells": [
  {
   "cell_type": "code",
   "execution_count": null,
   "metadata": {},
   "outputs": [],
   "source": [
    "from models.efficientMem import ViT as ViTMem\n",
    "from models.efficient import ViT as ViT\n",
    "from linformer import Linformer\n",
    "import torchvision.transforms as transforms\n",
    "\n",
    "from util.dataset_tools import get_cifar10, train, test, save_model, load_model"
   ]
  },
  {
   "cell_type": "code",
   "execution_count": null,
   "metadata": {},
   "outputs": [],
   "source": [
    "device = 'cuda'\n",
    "should_train = True\n",
    "model_path = 'weights/efficientMem.pth'"
   ]
  },
  {
   "cell_type": "code",
   "execution_count": null,
   "metadata": {},
   "outputs": [],
   "source": [
    "train_loader, test_loader = get_cifar10(\n",
    "    batch_size=128, new_transforms=[transforms.Resize(224, 224)]\n",
    ")"
   ]
  },
  {
   "cell_type": "code",
   "execution_count": null,
   "metadata": {},
   "outputs": [],
   "source": [
    "efficient_transformer = Linformer(\n",
    "    dim=128,\n",
    "    seq_len=49 + 1,  # 7x7 patches + 1 cls-token\n",
    "    depth=12,\n",
    "    heads=8,\n",
    "    k=64,\n",
    ")"
   ]
  },
  {
   "cell_type": "code",
   "execution_count": null,
   "metadata": {},
   "outputs": [],
   "source": [
    "model = ViT(\n",
    "    dim=128,\n",
    "    image_size=224,\n",
    "    patch_size=32,\n",
    "    num_classes=2,\n",
    "    transformer=efficient_transformer,\n",
    "    channels=3,\n",
    ").to(device)\n",
    "\n",
    "model_mem = ViTMem(\n",
    "    dim=128,\n",
    "    image_size=224,\n",
    "    patch_size=32,\n",
    "    num_classes=2,\n",
    "    transformer=efficient_transformer,\n",
    "    channels=3,\n",
    ").to(device)"
   ]
  },
  {
   "cell_type": "code",
   "execution_count": null,
   "metadata": {},
   "outputs": [],
   "source": [
    "if should_train:\n",
    "    train(model, train_loader, epochs=100, device=device, path=model_path)"
   ]
  },
  {
   "cell_type": "code",
   "execution_count": null,
   "metadata": {},
   "outputs": [],
   "source": [
    "model = load_model(model, model_path)\n",
    "model_mem = load_model(model_mem, model_path)"
   ]
  },
  {
   "cell_type": "code",
   "execution_count": null,
   "metadata": {},
   "outputs": [],
   "source": [
    "acc, _ = test(model, test_loader, device=device)\n",
    "print(f'Acc: {acc}')"
   ]
  },
  {
   "cell_type": "code",
   "execution_count": null,
   "metadata": {},
   "outputs": [],
   "source": [
    "acc_mem, _ = test(model_mem, test_loader, device=device)\n",
    "print(f'Acc Mem: {acc_mem}')"
   ]
  }
 ],
 "metadata": {
  "kernelspec": {
   "display_name": "pygpu",
   "language": "python",
   "name": "python3"
  },
  "language_info": {
   "name": "python",
   "version": "3.11.9"
  }
 },
 "nbformat": 4,
 "nbformat_minor": 2
}
