{
 "cells": [
  {
   "cell_type": "code",
   "execution_count": 1,
   "metadata": {},
   "outputs": [],
   "source": [
    "import pickle\n",
    "\n",
    "from models.efficientMem import ViT as ViTMem\n",
    "from models.efficient import ViT as ViT\n",
    "from linformer import Linformer\n",
    "import torchvision.transforms as transforms\n",
    "\n",
    "from util.dataset_tools import get_cifar10, train, test, load_model, augment_set\n",
    "from util.adv_tools import loader_to_data, data_to_loader, get_attack"
   ]
  },
  {
   "cell_type": "code",
   "execution_count": 14,
   "metadata": {},
   "outputs": [],
   "source": [
    "device = 'cuda'\n",
    "should_train = False\n",
    "model_path = 'weights/efficientMem.pth'\n",
    "SEQ_LENGTH = 5\n",
    "LAMBDA = 0.1"
   ]
  },
  {
   "cell_type": "code",
   "execution_count": 3,
   "metadata": {},
   "outputs": [
    {
     "name": "stdout",
     "output_type": "stream",
     "text": [
      "Files already downloaded and verified\n",
      "Files already downloaded and verified\n"
     ]
    }
   ],
   "source": [
    "train_loader, test_loader = get_cifar10(\n",
    "    batch_size=128, new_transforms=[transforms.Resize(224)]\n",
    ")"
   ]
  },
  {
   "cell_type": "code",
   "execution_count": 4,
   "metadata": {},
   "outputs": [],
   "source": [
    "efficient_transformer = Linformer(\n",
    "    dim=128,\n",
    "    seq_len=49 + 1,  # 7x7 patches + 1 cls-token\n",
    "    depth=12,\n",
    "    heads=8,\n",
    "    k=64,\n",
    ")"
   ]
  },
  {
   "cell_type": "code",
   "execution_count": 5,
   "metadata": {},
   "outputs": [],
   "source": [
    "model = ViT(\n",
    "    dim=128,\n",
    "    image_size=224,\n",
    "    patch_size=32,\n",
    "    num_classes=10,\n",
    "    transformer=efficient_transformer,\n",
    "    channels=3,\n",
    ").to(device)\n",
    "\n",
    "model_mem = ViTMem(\n",
    "    dim=128,\n",
    "    image_size=224,\n",
    "    patch_size=32,\n",
    "    num_classes=10,\n",
    "    transformer=efficient_transformer,\n",
    "    channels=3,\n",
    ").to(device)"
   ]
  },
  {
   "cell_type": "code",
   "execution_count": 6,
   "metadata": {},
   "outputs": [],
   "source": [
    "if should_train:\n",
    "    train(model, train_loader, test_loader, epochs=200, path=model_path)"
   ]
  },
  {
   "cell_type": "code",
   "execution_count": 7,
   "metadata": {},
   "outputs": [],
   "source": [
    "model = load_model(model, model_path)\n",
    "model_mem = load_model(model_mem, model_path)"
   ]
  },
  {
   "cell_type": "code",
   "execution_count": 8,
   "metadata": {},
   "outputs": [
    {
     "name": "stderr",
     "output_type": "stream",
     "text": [
      "100%|██████████| 79/79 [3:50:59<00:00, 175.44s/it]  "
     ]
    },
    {
     "name": "stdout",
     "output_type": "stream",
     "text": [
      "Acc Mem: 48.23\n"
     ]
    },
    {
     "name": "stderr",
     "output_type": "stream",
     "text": [
      "\n"
     ]
    }
   ],
   "source": [
    "acc_mem, _ = test(model_mem, test_loader, parellel=True)\n",
    "print(f'Acc Mem: {acc_mem}')"
   ]
  },
  {
   "cell_type": "code",
   "execution_count": 9,
   "metadata": {},
   "outputs": [
    {
     "name": "stderr",
     "output_type": "stream",
     "text": [
      "100%|██████████| 79/79 [00:06<00:00, 11.41it/s]"
     ]
    },
    {
     "name": "stdout",
     "output_type": "stream",
     "text": [
      "Acc: 53.37\n"
     ]
    },
    {
     "name": "stderr",
     "output_type": "stream",
     "text": [
      "\n"
     ]
    }
   ],
   "source": [
    "acc, _ = test(model, test_loader, parellel=True)\n",
    "print(f'Acc: {acc}')"
   ]
  },
  {
   "cell_type": "code",
   "execution_count": 8,
   "metadata": {},
   "outputs": [],
   "source": [
    "x_test, y_test = loader_to_data(test_loader)\n",
    "x_aug, y_aug = augment_set(x_test, y_test, SEQ_LENGTH)\n",
    "test_loader_aug = data_to_loader(x_aug, y_aug)"
   ]
  },
  {
   "cell_type": "code",
   "execution_count": 15,
   "metadata": {},
   "outputs": [
    {
     "name": "stderr",
     "output_type": "stream",
     "text": [
      "100%|██████████| 782/782 [00:45<00:00, 17.35it/s]\n"
     ]
    },
    {
     "name": "stdout",
     "output_type": "stream",
     "text": [
      "Accuracy on FGSM (SW): 35.566\n"
     ]
    },
    {
     "name": "stderr",
     "output_type": "stream",
     "text": [
      "100%|██████████| 782/782 [41:55:25<00:00, 193.00s/it]   "
     ]
    },
    {
     "name": "stdout",
     "output_type": "stream",
     "text": [
      "Accuracy on FGSM (Memristor): 35.942\n"
     ]
    },
    {
     "name": "stderr",
     "output_type": "stream",
     "text": [
      "\n"
     ]
    }
   ],
   "source": [
    "if not should_train:\n",
    "    x_fgsm = get_attack(\n",
    "        x_test, \"FGSM\", LAMBDA / 10, model=model, input_shape=(3, 224, 224)\n",
    "    )\n",
    "    x_fgsm_aug, y_fgsm_aug = augment_set(x_fgsm, y_test, SEQ_LENGTH)\n",
    "    adv_loader_fgsm = data_to_loader(x_fgsm_aug, y_fgsm_aug)\n",
    "\n",
    "    with open(\"data/c10/adv_loader_fgsm.pkl\", \"wb\") as f:\n",
    "        pickle.dump(adv_loader_fgsm, f)\n",
    "else:\n",
    "    with open(\"data/c10/adv_loader_fgsm.pkl\", \"rb\") as f:\n",
    "        adv_loader_fgsm = pickle.load(f)\n",
    "\n",
    "acc, _ = test(model, adv_loader_fgsm, \"c10_fgsm_sw\")\n",
    "print(\"Accuracy on FGSM (SW):\", acc)\n",
    "\n",
    "acc, _ = test(model_mem, adv_loader_fgsm, \"c10_fgsm_mem\")\n",
    "print(\"Accuracy on FGSM (Memristor):\", acc)"
   ]
  }
 ],
 "metadata": {
  "kernelspec": {
   "display_name": "pygpu",
   "language": "python",
   "name": "python3"
  },
  "language_info": {
   "codemirror_mode": {
    "name": "ipython",
    "version": 3
   },
   "file_extension": ".py",
   "mimetype": "text/x-python",
   "name": "python",
   "nbconvert_exporter": "python",
   "pygments_lexer": "ipython3",
   "version": "3.11.9"
  }
 },
 "nbformat": 4,
 "nbformat_minor": 2
}
